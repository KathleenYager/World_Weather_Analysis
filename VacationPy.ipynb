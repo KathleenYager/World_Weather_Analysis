{
 "cells": [
  {
   "cell_type": "code",
   "execution_count": 3,
   "metadata": {},
   "outputs": [],
   "source": [
    "# Dependencies and Setup\n",
    "import pandas as pd\n",
    "import requests\n",
    "import gmaps\n",
    "\n",
    "# Import API key\n",
    "from config import g_key"
   ]
  },
  {
   "cell_type": "code",
   "execution_count": 4,
   "metadata": {},
   "outputs": [
    {
     "data": {
      "text/html": [
       "<div>\n",
       "<style scoped>\n",
       "    .dataframe tbody tr th:only-of-type {\n",
       "        vertical-align: middle;\n",
       "    }\n",
       "\n",
       "    .dataframe tbody tr th {\n",
       "        vertical-align: top;\n",
       "    }\n",
       "\n",
       "    .dataframe thead th {\n",
       "        text-align: right;\n",
       "    }\n",
       "</style>\n",
       "<table border=\"1\" class=\"dataframe\">\n",
       "  <thead>\n",
       "    <tr style=\"text-align: right;\">\n",
       "      <th></th>\n",
       "      <th>City_ID</th>\n",
       "      <th>City</th>\n",
       "      <th>Lat</th>\n",
       "      <th>Lng</th>\n",
       "      <th>Max Temp</th>\n",
       "      <th>Humidity</th>\n",
       "      <th>Cloudiness</th>\n",
       "      <th>Wind Speed</th>\n",
       "      <th>Country</th>\n",
       "      <th>Date</th>\n",
       "    </tr>\n",
       "  </thead>\n",
       "  <tbody>\n",
       "    <tr>\n",
       "      <th>0</th>\n",
       "      <td>0</td>\n",
       "      <td>Rikitea</td>\n",
       "      <td>-23.1203</td>\n",
       "      <td>-134.9692</td>\n",
       "      <td>77.63</td>\n",
       "      <td>71</td>\n",
       "      <td>1</td>\n",
       "      <td>16.78</td>\n",
       "      <td>PF</td>\n",
       "      <td>2022-04-15 21:51:36</td>\n",
       "    </tr>\n",
       "    <tr>\n",
       "      <th>1</th>\n",
       "      <td>1</td>\n",
       "      <td>Tiksi</td>\n",
       "      <td>71.6872</td>\n",
       "      <td>128.8694</td>\n",
       "      <td>-4.34</td>\n",
       "      <td>100</td>\n",
       "      <td>100</td>\n",
       "      <td>3.62</td>\n",
       "      <td>RU</td>\n",
       "      <td>2022-04-15 21:51:36</td>\n",
       "    </tr>\n",
       "    <tr>\n",
       "      <th>2</th>\n",
       "      <td>2</td>\n",
       "      <td>Bedi</td>\n",
       "      <td>22.5000</td>\n",
       "      <td>70.0500</td>\n",
       "      <td>78.31</td>\n",
       "      <td>75</td>\n",
       "      <td>0</td>\n",
       "      <td>10.60</td>\n",
       "      <td>IN</td>\n",
       "      <td>2022-04-15 21:51:36</td>\n",
       "    </tr>\n",
       "    <tr>\n",
       "      <th>3</th>\n",
       "      <td>3</td>\n",
       "      <td>Lorengau</td>\n",
       "      <td>-2.0226</td>\n",
       "      <td>147.2712</td>\n",
       "      <td>83.10</td>\n",
       "      <td>74</td>\n",
       "      <td>63</td>\n",
       "      <td>5.23</td>\n",
       "      <td>PG</td>\n",
       "      <td>2022-04-15 21:51:37</td>\n",
       "    </tr>\n",
       "    <tr>\n",
       "      <th>4</th>\n",
       "      <td>4</td>\n",
       "      <td>Vestmannaeyjar</td>\n",
       "      <td>63.4427</td>\n",
       "      <td>-20.2734</td>\n",
       "      <td>47.44</td>\n",
       "      <td>83</td>\n",
       "      <td>98</td>\n",
       "      <td>34.65</td>\n",
       "      <td>IS</td>\n",
       "      <td>2022-04-15 21:51:37</td>\n",
       "    </tr>\n",
       "  </tbody>\n",
       "</table>\n",
       "</div>"
      ],
      "text/plain": [
       "   City_ID            City      Lat       Lng  Max Temp  Humidity  Cloudiness  \\\n",
       "0        0         Rikitea -23.1203 -134.9692     77.63        71           1   \n",
       "1        1           Tiksi  71.6872  128.8694     -4.34       100         100   \n",
       "2        2            Bedi  22.5000   70.0500     78.31        75           0   \n",
       "3        3        Lorengau  -2.0226  147.2712     83.10        74          63   \n",
       "4        4  Vestmannaeyjar  63.4427  -20.2734     47.44        83          98   \n",
       "\n",
       "   Wind Speed Country                 Date  \n",
       "0       16.78      PF  2022-04-15 21:51:36  \n",
       "1        3.62      RU  2022-04-15 21:51:36  \n",
       "2       10.60      IN  2022-04-15 21:51:36  \n",
       "3        5.23      PG  2022-04-15 21:51:37  \n",
       "4       34.65      IS  2022-04-15 21:51:37  "
      ]
     },
     "execution_count": 4,
     "metadata": {},
     "output_type": "execute_result"
    }
   ],
   "source": [
    "# Store the CSV you saved created in part one into a DataFrame.\n",
    "city_data_df = pd.read_csv(\"weather_data/cities.csv\")\n",
    "city_data_df.head()"
   ]
  },
  {
   "cell_type": "code",
   "execution_count": 5,
   "metadata": {},
   "outputs": [
    {
     "data": {
      "text/plain": [
       "City_ID         int64\n",
       "City           object\n",
       "Lat           float64\n",
       "Lng           float64\n",
       "Max Temp      float64\n",
       "Humidity        int64\n",
       "Cloudiness      int64\n",
       "Wind Speed    float64\n",
       "Country        object\n",
       "Date           object\n",
       "dtype: object"
      ]
     },
     "execution_count": 5,
     "metadata": {},
     "output_type": "execute_result"
    }
   ],
   "source": [
    "city_data_df.dtypes"
   ]
  },
  {
   "cell_type": "code",
   "execution_count": 11,
   "metadata": {},
   "outputs": [],
   "source": [
    "# Configure gmaps to use your Google API key.\n",
    "gmaps.configure(api_key=g_key)"
   ]
  },
  {
   "cell_type": "code",
   "execution_count": 14,
   "metadata": {},
   "outputs": [],
   "source": [
    "# Get the maximum temperature.\n",
    "max_temp = city_data_df[\"Max Temp\"]\n",
    "temps = []\n",
    "for temp in max_temp:\n",
    "    temps.append(max(temp, 0))"
   ]
  },
  {
   "cell_type": "code",
   "execution_count": 19,
   "metadata": {},
   "outputs": [
    {
     "data": {
      "application/vnd.jupyter.widget-view+json": {
       "model_id": "0ab30b7006bc4ce394aa8ed406c5141d",
       "version_major": 2,
       "version_minor": 0
      },
      "text/plain": [
       "Figure(layout=FigureLayout(height='420px'))"
      ]
     },
     "metadata": {},
     "output_type": "display_data"
    }
   ],
   "source": [
    "# Heatmap of temperature\n",
    "# Get the latitude and longitude.\n",
    "locations = city_data_df[[\"Lat\", \"Lng\"]]\n",
    "# Get the maximum temperature.\n",
    "max_temp = city_data_df[\"Max Temp\"]\n",
    "# Assign the figure variable.\n",
    "fig = gmaps.figure()\n",
    "# Assign the heatmap variable.\n",
    "heat_layer = gmaps.heatmap_layer(locations, weights=[max(temp, 0) for temp in max_temp], dissipating=False, max_intensity=300, point_radius=4)\n",
    "# Add the geographic center of earth.\n",
    "fig = gmaps.figure(center=(30.0, 31.0), zoom_level=1.5)\n",
    "# Add the heatmap layer.\n",
    "fig.add_layer(heat_layer)\n",
    "# Call the figure to plot the data.\n",
    "fig"
   ]
  },
  {
   "cell_type": "code",
   "execution_count": 20,
   "metadata": {},
   "outputs": [
    {
     "data": {
      "application/vnd.jupyter.widget-view+json": {
       "model_id": "12c100202e3c429782a39ad91c5e1345",
       "version_major": 2,
       "version_minor": 0
      },
      "text/plain": [
       "Figure(layout=FigureLayout(height='420px'))"
      ]
     },
     "metadata": {},
     "output_type": "display_data"
    }
   ],
   "source": [
    "# Heatmap of percent humidity\n",
    "locations = city_data_df[[\"Lat\", \"Lng\"]]\n",
    "humidity = city_data_df[\"Humidity\"]\n",
    "fig = gmaps.figure(center=(30.0, 31.0), zoom_level=1.5)\n",
    "heat_layer = gmaps.heatmap_layer(locations, weights=humidity, dissipating=False, max_intensity=300, point_radius=4)\n",
    "\n",
    "fig.add_layer(heat_layer)\n",
    "# Call the figure to plot the data.\n",
    "fig"
   ]
  },
  {
   "cell_type": "code",
   "execution_count": 22,
   "metadata": {},
   "outputs": [
    {
     "data": {
      "application/vnd.jupyter.widget-view+json": {
       "model_id": "c97a75fe50c448b4a4a2c05bd6ff2b13",
       "version_major": 2,
       "version_minor": 0
      },
      "text/plain": [
       "Figure(layout=FigureLayout(height='420px'))"
      ]
     },
     "metadata": {},
     "output_type": "display_data"
    }
   ],
   "source": [
    "# Heatmap of percent cloudiness.\n",
    "locations = city_data_df[[\"Lat\", \"Lng\"]]\n",
    "clouds = city_data_df[\"Cloudiness\"]\n",
    "fig = gmaps.figure(center=(30.0, 31.0), zoom_level=1.5)\n",
    "heat_layer = gmaps.heatmap_layer(locations, weights=clouds, dissipating=False, max_intensity=300, point_radius=4)\n",
    "\n",
    "fig.add_layer(heat_layer)\n",
    "# Call the figure to plot the data.\n",
    "fig"
   ]
  },
  {
   "cell_type": "code",
   "execution_count": 23,
   "metadata": {},
   "outputs": [
    {
     "data": {
      "application/vnd.jupyter.widget-view+json": {
       "model_id": "02d1cdf2cdd64ddaac8b98db66d3bf9e",
       "version_major": 2,
       "version_minor": 0
      },
      "text/plain": [
       "Figure(layout=FigureLayout(height='420px'))"
      ]
     },
     "metadata": {},
     "output_type": "display_data"
    }
   ],
   "source": [
    "# Heatmap of percent wind speed\n",
    "locations = city_data_df[[\"Lat\", \"Lng\"]]\n",
    "wind = city_data_df[\"Wind Speed\"]\n",
    "fig = gmaps.figure(center=(30.0, 31.0), zoom_level=1.5)\n",
    "heat_layer = gmaps.heatmap_layer(locations, weights=wind, dissipating=False, max_intensity=300, point_radius=4)\n",
    "\n",
    "fig.add_layer(heat_layer)\n",
    "# Call the figure to plot the data.\n",
    "fig"
   ]
  },
  {
   "cell_type": "code",
   "execution_count": 24,
   "metadata": {},
   "outputs": [],
   "source": [
    "# Ask the customer to add a minimum and maximum temperature value.\n",
    "min_temp = float(input(\"What is the minimum temperature you would like for your trip? \"))\n",
    "max_temp = float(input(\"What is the maximum temperature you would like for your trip? \"))"
   ]
  },
  {
   "cell_type": "code",
   "execution_count": 25,
   "metadata": {},
   "outputs": [
    {
     "data": {
      "text/html": [
       "<div>\n",
       "<style scoped>\n",
       "    .dataframe tbody tr th:only-of-type {\n",
       "        vertical-align: middle;\n",
       "    }\n",
       "\n",
       "    .dataframe tbody tr th {\n",
       "        vertical-align: top;\n",
       "    }\n",
       "\n",
       "    .dataframe thead th {\n",
       "        text-align: right;\n",
       "    }\n",
       "</style>\n",
       "<table border=\"1\" class=\"dataframe\">\n",
       "  <thead>\n",
       "    <tr style=\"text-align: right;\">\n",
       "      <th></th>\n",
       "      <th>City_ID</th>\n",
       "      <th>City</th>\n",
       "      <th>Lat</th>\n",
       "      <th>Lng</th>\n",
       "      <th>Max Temp</th>\n",
       "      <th>Humidity</th>\n",
       "      <th>Cloudiness</th>\n",
       "      <th>Wind Speed</th>\n",
       "      <th>Country</th>\n",
       "      <th>Date</th>\n",
       "    </tr>\n",
       "  </thead>\n",
       "  <tbody>\n",
       "    <tr>\n",
       "      <th>0</th>\n",
       "      <td>0</td>\n",
       "      <td>Rikitea</td>\n",
       "      <td>-23.1203</td>\n",
       "      <td>-134.9692</td>\n",
       "      <td>77.63</td>\n",
       "      <td>71</td>\n",
       "      <td>1</td>\n",
       "      <td>16.78</td>\n",
       "      <td>PF</td>\n",
       "      <td>2022-04-15 21:51:36</td>\n",
       "    </tr>\n",
       "    <tr>\n",
       "      <th>2</th>\n",
       "      <td>2</td>\n",
       "      <td>Bedi</td>\n",
       "      <td>22.5000</td>\n",
       "      <td>70.0500</td>\n",
       "      <td>78.31</td>\n",
       "      <td>75</td>\n",
       "      <td>0</td>\n",
       "      <td>10.60</td>\n",
       "      <td>IN</td>\n",
       "      <td>2022-04-15 21:51:36</td>\n",
       "    </tr>\n",
       "    <tr>\n",
       "      <th>3</th>\n",
       "      <td>3</td>\n",
       "      <td>Lorengau</td>\n",
       "      <td>-2.0226</td>\n",
       "      <td>147.2712</td>\n",
       "      <td>83.10</td>\n",
       "      <td>74</td>\n",
       "      <td>63</td>\n",
       "      <td>5.23</td>\n",
       "      <td>PG</td>\n",
       "      <td>2022-04-15 21:51:37</td>\n",
       "    </tr>\n",
       "    <tr>\n",
       "      <th>5</th>\n",
       "      <td>5</td>\n",
       "      <td>San Cristobal</td>\n",
       "      <td>7.7669</td>\n",
       "      <td>-72.2250</td>\n",
       "      <td>77.18</td>\n",
       "      <td>59</td>\n",
       "      <td>100</td>\n",
       "      <td>4.70</td>\n",
       "      <td>VE</td>\n",
       "      <td>2022-04-15 21:51:37</td>\n",
       "    </tr>\n",
       "    <tr>\n",
       "      <th>8</th>\n",
       "      <td>8</td>\n",
       "      <td>Umm Lajj</td>\n",
       "      <td>25.0213</td>\n",
       "      <td>37.2685</td>\n",
       "      <td>75.65</td>\n",
       "      <td>57</td>\n",
       "      <td>0</td>\n",
       "      <td>6.20</td>\n",
       "      <td>SA</td>\n",
       "      <td>2022-04-15 21:51:38</td>\n",
       "    </tr>\n",
       "    <tr>\n",
       "      <th>10</th>\n",
       "      <td>10</td>\n",
       "      <td>Buchanan</td>\n",
       "      <td>5.8808</td>\n",
       "      <td>-10.0467</td>\n",
       "      <td>80.24</td>\n",
       "      <td>84</td>\n",
       "      <td>100</td>\n",
       "      <td>7.29</td>\n",
       "      <td>LR</td>\n",
       "      <td>2022-04-15 21:51:39</td>\n",
       "    </tr>\n",
       "    <tr>\n",
       "      <th>11</th>\n",
       "      <td>11</td>\n",
       "      <td>Kalmunai</td>\n",
       "      <td>7.4167</td>\n",
       "      <td>81.8167</td>\n",
       "      <td>79.14</td>\n",
       "      <td>89</td>\n",
       "      <td>10</td>\n",
       "      <td>10.74</td>\n",
       "      <td>LK</td>\n",
       "      <td>2022-04-15 21:51:39</td>\n",
       "    </tr>\n",
       "    <tr>\n",
       "      <th>23</th>\n",
       "      <td>23</td>\n",
       "      <td>Tautira</td>\n",
       "      <td>-17.7333</td>\n",
       "      <td>-149.1500</td>\n",
       "      <td>81.03</td>\n",
       "      <td>73</td>\n",
       "      <td>13</td>\n",
       "      <td>15.99</td>\n",
       "      <td>PF</td>\n",
       "      <td>2022-04-15 21:51:42</td>\n",
       "    </tr>\n",
       "    <tr>\n",
       "      <th>27</th>\n",
       "      <td>27</td>\n",
       "      <td>Yenagoa</td>\n",
       "      <td>4.9247</td>\n",
       "      <td>6.2642</td>\n",
       "      <td>79.21</td>\n",
       "      <td>86</td>\n",
       "      <td>96</td>\n",
       "      <td>2.98</td>\n",
       "      <td>NG</td>\n",
       "      <td>2022-04-15 21:51:43</td>\n",
       "    </tr>\n",
       "    <tr>\n",
       "      <th>28</th>\n",
       "      <td>28</td>\n",
       "      <td>Atuona</td>\n",
       "      <td>-9.8000</td>\n",
       "      <td>-139.0333</td>\n",
       "      <td>78.87</td>\n",
       "      <td>78</td>\n",
       "      <td>17</td>\n",
       "      <td>15.61</td>\n",
       "      <td>PF</td>\n",
       "      <td>2022-04-15 21:51:43</td>\n",
       "    </tr>\n",
       "  </tbody>\n",
       "</table>\n",
       "</div>"
      ],
      "text/plain": [
       "    City_ID           City      Lat       Lng  Max Temp  Humidity  Cloudiness  \\\n",
       "0         0        Rikitea -23.1203 -134.9692     77.63        71           1   \n",
       "2         2           Bedi  22.5000   70.0500     78.31        75           0   \n",
       "3         3       Lorengau  -2.0226  147.2712     83.10        74          63   \n",
       "5         5  San Cristobal   7.7669  -72.2250     77.18        59         100   \n",
       "8         8       Umm Lajj  25.0213   37.2685     75.65        57           0   \n",
       "10       10       Buchanan   5.8808  -10.0467     80.24        84         100   \n",
       "11       11       Kalmunai   7.4167   81.8167     79.14        89          10   \n",
       "23       23        Tautira -17.7333 -149.1500     81.03        73          13   \n",
       "27       27        Yenagoa   4.9247    6.2642     79.21        86          96   \n",
       "28       28         Atuona  -9.8000 -139.0333     78.87        78          17   \n",
       "\n",
       "    Wind Speed Country                 Date  \n",
       "0        16.78      PF  2022-04-15 21:51:36  \n",
       "2        10.60      IN  2022-04-15 21:51:36  \n",
       "3         5.23      PG  2022-04-15 21:51:37  \n",
       "5         4.70      VE  2022-04-15 21:51:37  \n",
       "8         6.20      SA  2022-04-15 21:51:38  \n",
       "10        7.29      LR  2022-04-15 21:51:39  \n",
       "11       10.74      LK  2022-04-15 21:51:39  \n",
       "23       15.99      PF  2022-04-15 21:51:42  \n",
       "27        2.98      NG  2022-04-15 21:51:43  \n",
       "28       15.61      PF  2022-04-15 21:51:43  "
      ]
     },
     "execution_count": 25,
     "metadata": {},
     "output_type": "execute_result"
    }
   ],
   "source": [
    "# Filter the dataset to find the cities that fit the criteria.\n",
    "preferred_cities_df = city_data_df.loc[(city_data_df[\"Max Temp\"] <= max_temp) & \\\n",
    "                                       (city_data_df[\"Max Temp\"] >= min_temp)]\n",
    "preferred_cities_df.head(10)"
   ]
  },
  {
   "cell_type": "code",
   "execution_count": 26,
   "metadata": {},
   "outputs": [
    {
     "data": {
      "text/plain": [
       "City_ID       179\n",
       "City          179\n",
       "Lat           179\n",
       "Lng           179\n",
       "Max Temp      179\n",
       "Humidity      179\n",
       "Cloudiness    179\n",
       "Wind Speed    179\n",
       "Country       179\n",
       "Date          179\n",
       "dtype: int64"
      ]
     },
     "execution_count": 26,
     "metadata": {},
     "output_type": "execute_result"
    }
   ],
   "source": [
    "preferred_cities_df.count()"
   ]
  },
  {
   "cell_type": "code",
   "execution_count": 27,
   "metadata": {},
   "outputs": [
    {
     "data": {
      "text/html": [
       "<div>\n",
       "<style scoped>\n",
       "    .dataframe tbody tr th:only-of-type {\n",
       "        vertical-align: middle;\n",
       "    }\n",
       "\n",
       "    .dataframe tbody tr th {\n",
       "        vertical-align: top;\n",
       "    }\n",
       "\n",
       "    .dataframe thead th {\n",
       "        text-align: right;\n",
       "    }\n",
       "</style>\n",
       "<table border=\"1\" class=\"dataframe\">\n",
       "  <thead>\n",
       "    <tr style=\"text-align: right;\">\n",
       "      <th></th>\n",
       "      <th>City</th>\n",
       "      <th>Country</th>\n",
       "      <th>Max Temp</th>\n",
       "      <th>Lat</th>\n",
       "      <th>Lng</th>\n",
       "      <th>Hotel Name</th>\n",
       "    </tr>\n",
       "  </thead>\n",
       "  <tbody>\n",
       "    <tr>\n",
       "      <th>0</th>\n",
       "      <td>Rikitea</td>\n",
       "      <td>PF</td>\n",
       "      <td>77.63</td>\n",
       "      <td>-23.1203</td>\n",
       "      <td>-134.9692</td>\n",
       "      <td></td>\n",
       "    </tr>\n",
       "    <tr>\n",
       "      <th>2</th>\n",
       "      <td>Bedi</td>\n",
       "      <td>IN</td>\n",
       "      <td>78.31</td>\n",
       "      <td>22.5000</td>\n",
       "      <td>70.0500</td>\n",
       "      <td></td>\n",
       "    </tr>\n",
       "    <tr>\n",
       "      <th>3</th>\n",
       "      <td>Lorengau</td>\n",
       "      <td>PG</td>\n",
       "      <td>83.10</td>\n",
       "      <td>-2.0226</td>\n",
       "      <td>147.2712</td>\n",
       "      <td></td>\n",
       "    </tr>\n",
       "    <tr>\n",
       "      <th>5</th>\n",
       "      <td>San Cristobal</td>\n",
       "      <td>VE</td>\n",
       "      <td>77.18</td>\n",
       "      <td>7.7669</td>\n",
       "      <td>-72.2250</td>\n",
       "      <td></td>\n",
       "    </tr>\n",
       "    <tr>\n",
       "      <th>8</th>\n",
       "      <td>Umm Lajj</td>\n",
       "      <td>SA</td>\n",
       "      <td>75.65</td>\n",
       "      <td>25.0213</td>\n",
       "      <td>37.2685</td>\n",
       "      <td></td>\n",
       "    </tr>\n",
       "    <tr>\n",
       "      <th>10</th>\n",
       "      <td>Buchanan</td>\n",
       "      <td>LR</td>\n",
       "      <td>80.24</td>\n",
       "      <td>5.8808</td>\n",
       "      <td>-10.0467</td>\n",
       "      <td></td>\n",
       "    </tr>\n",
       "    <tr>\n",
       "      <th>11</th>\n",
       "      <td>Kalmunai</td>\n",
       "      <td>LK</td>\n",
       "      <td>79.14</td>\n",
       "      <td>7.4167</td>\n",
       "      <td>81.8167</td>\n",
       "      <td></td>\n",
       "    </tr>\n",
       "    <tr>\n",
       "      <th>23</th>\n",
       "      <td>Tautira</td>\n",
       "      <td>PF</td>\n",
       "      <td>81.03</td>\n",
       "      <td>-17.7333</td>\n",
       "      <td>-149.1500</td>\n",
       "      <td></td>\n",
       "    </tr>\n",
       "    <tr>\n",
       "      <th>27</th>\n",
       "      <td>Yenagoa</td>\n",
       "      <td>NG</td>\n",
       "      <td>79.21</td>\n",
       "      <td>4.9247</td>\n",
       "      <td>6.2642</td>\n",
       "      <td></td>\n",
       "    </tr>\n",
       "    <tr>\n",
       "      <th>28</th>\n",
       "      <td>Atuona</td>\n",
       "      <td>PF</td>\n",
       "      <td>78.87</td>\n",
       "      <td>-9.8000</td>\n",
       "      <td>-139.0333</td>\n",
       "      <td></td>\n",
       "    </tr>\n",
       "  </tbody>\n",
       "</table>\n",
       "</div>"
      ],
      "text/plain": [
       "             City Country  Max Temp      Lat       Lng Hotel Name\n",
       "0         Rikitea      PF     77.63 -23.1203 -134.9692           \n",
       "2            Bedi      IN     78.31  22.5000   70.0500           \n",
       "3        Lorengau      PG     83.10  -2.0226  147.2712           \n",
       "5   San Cristobal      VE     77.18   7.7669  -72.2250           \n",
       "8        Umm Lajj      SA     75.65  25.0213   37.2685           \n",
       "10       Buchanan      LR     80.24   5.8808  -10.0467           \n",
       "11       Kalmunai      LK     79.14   7.4167   81.8167           \n",
       "23        Tautira      PF     81.03 -17.7333 -149.1500           \n",
       "27        Yenagoa      NG     79.21   4.9247    6.2642           \n",
       "28         Atuona      PF     78.87  -9.8000 -139.0333           "
      ]
     },
     "execution_count": 27,
     "metadata": {},
     "output_type": "execute_result"
    }
   ],
   "source": [
    "# Create DataFrame called hotel_df to store hotel names along with city, country, max temp, and coordinates.\n",
    "hotel_df = preferred_cities_df[[\"City\", \"Country\", \"Max Temp\", \"Lat\", \"Lng\"]].copy()\n",
    "hotel_df[\"Hotel Name\"] = \"\"\n",
    "hotel_df.head(10)"
   ]
  },
  {
   "cell_type": "code",
   "execution_count": 28,
   "metadata": {},
   "outputs": [],
   "source": [
    "# Set parameters to search for a hotel.\n",
    "params = {\n",
    "    \"radius\": 5000,\n",
    "    \"type\": \"lodging\",\n",
    "    \"key\": g_key\n",
    "}"
   ]
  },
  {
   "cell_type": "code",
   "execution_count": 31,
   "metadata": {},
   "outputs": [
    {
     "name": "stdout",
     "output_type": "stream",
     "text": [
      "Hotel not found... skipping.\n",
      "Hotel not found... skipping.\n",
      "Hotel not found... skipping.\n",
      "Hotel not found... skipping.\n",
      "Hotel not found... skipping.\n",
      "Hotel not found... skipping.\n",
      "Hotel not found... skipping.\n",
      "Hotel not found... skipping.\n",
      "Hotel not found... skipping.\n",
      "Hotel not found... skipping.\n",
      "Hotel not found... skipping.\n",
      "Hotel not found... skipping.\n",
      "Hotel not found... skipping.\n",
      "Hotel not found... skipping.\n",
      "Hotel not found... skipping.\n",
      "Hotel not found... skipping.\n",
      "Hotel not found... skipping.\n",
      "Hotel not found... skipping.\n"
     ]
    }
   ],
   "source": [
    "# Iterate through the DataFrame.\n",
    "for index, row in hotel_df.iterrows():\n",
    "    # Get the latitude and longitude.\n",
    "    lat = row[\"Lat\"]\n",
    "    lng = row[\"Lng\"]\n",
    "\n",
    "    # Add the latitude and longitude to location key for the params dictionary.\n",
    "    params[\"location\"] = f\"{lat},{lng}\"\n",
    "\n",
    "    # Use the search term: \"lodging\" and our latitude and longitude.\n",
    "    base_url = \"https://maps.googleapis.com/maps/api/place/nearbysearch/json\"\n",
    "    # Make request and get the JSON data from the search.\n",
    "    hotels = requests.get(base_url, params=params).json()\n",
    "    \n",
    "    # Grab the first hotel from the results and store the name.\n",
    "    try:\n",
    "        hotel_df.loc[index, \"Hotel Name\"] = hotels[\"results\"][0][\"name\"]\n",
    "    except (IndexError):\n",
    "        print(\"Hotel not found... skipping.\")"
   ]
  },
  {
   "cell_type": "code",
   "execution_count": 32,
   "metadata": {},
   "outputs": [
    {
     "data": {
      "text/html": [
       "<div>\n",
       "<style scoped>\n",
       "    .dataframe tbody tr th:only-of-type {\n",
       "        vertical-align: middle;\n",
       "    }\n",
       "\n",
       "    .dataframe tbody tr th {\n",
       "        vertical-align: top;\n",
       "    }\n",
       "\n",
       "    .dataframe thead th {\n",
       "        text-align: right;\n",
       "    }\n",
       "</style>\n",
       "<table border=\"1\" class=\"dataframe\">\n",
       "  <thead>\n",
       "    <tr style=\"text-align: right;\">\n",
       "      <th></th>\n",
       "      <th>City</th>\n",
       "      <th>Country</th>\n",
       "      <th>Max Temp</th>\n",
       "      <th>Lat</th>\n",
       "      <th>Lng</th>\n",
       "      <th>Hotel Name</th>\n",
       "    </tr>\n",
       "  </thead>\n",
       "  <tbody>\n",
       "    <tr>\n",
       "      <th>0</th>\n",
       "      <td>Rikitea</td>\n",
       "      <td>PF</td>\n",
       "      <td>77.63</td>\n",
       "      <td>-23.1203</td>\n",
       "      <td>-134.9692</td>\n",
       "      <td>People ThankYou</td>\n",
       "    </tr>\n",
       "    <tr>\n",
       "      <th>2</th>\n",
       "      <td>Bedi</td>\n",
       "      <td>IN</td>\n",
       "      <td>78.31</td>\n",
       "      <td>22.5000</td>\n",
       "      <td>70.0500</td>\n",
       "      <td>Hotel Aram</td>\n",
       "    </tr>\n",
       "    <tr>\n",
       "      <th>3</th>\n",
       "      <td>Lorengau</td>\n",
       "      <td>PG</td>\n",
       "      <td>83.10</td>\n",
       "      <td>-2.0226</td>\n",
       "      <td>147.2712</td>\n",
       "      <td>Lorengau Harbourside Hotel</td>\n",
       "    </tr>\n",
       "    <tr>\n",
       "      <th>5</th>\n",
       "      <td>San Cristobal</td>\n",
       "      <td>VE</td>\n",
       "      <td>77.18</td>\n",
       "      <td>7.7669</td>\n",
       "      <td>-72.2250</td>\n",
       "      <td>Pirineos</td>\n",
       "    </tr>\n",
       "    <tr>\n",
       "      <th>8</th>\n",
       "      <td>Umm Lajj</td>\n",
       "      <td>SA</td>\n",
       "      <td>75.65</td>\n",
       "      <td>25.0213</td>\n",
       "      <td>37.2685</td>\n",
       "      <td>Moon light Furnished Units</td>\n",
       "    </tr>\n",
       "    <tr>\n",
       "      <th>10</th>\n",
       "      <td>Buchanan</td>\n",
       "      <td>LR</td>\n",
       "      <td>80.24</td>\n",
       "      <td>5.8808</td>\n",
       "      <td>-10.0467</td>\n",
       "      <td>Kamaneahn Hotel Inc</td>\n",
       "    </tr>\n",
       "    <tr>\n",
       "      <th>11</th>\n",
       "      <td>Kalmunai</td>\n",
       "      <td>LK</td>\n",
       "      <td>79.14</td>\n",
       "      <td>7.4167</td>\n",
       "      <td>81.8167</td>\n",
       "      <td>VS Villa</td>\n",
       "    </tr>\n",
       "    <tr>\n",
       "      <th>23</th>\n",
       "      <td>Tautira</td>\n",
       "      <td>PF</td>\n",
       "      <td>81.03</td>\n",
       "      <td>-17.7333</td>\n",
       "      <td>-149.1500</td>\n",
       "      <td>Pension Oaoa</td>\n",
       "    </tr>\n",
       "    <tr>\n",
       "      <th>27</th>\n",
       "      <td>Yenagoa</td>\n",
       "      <td>NG</td>\n",
       "      <td>79.21</td>\n",
       "      <td>4.9247</td>\n",
       "      <td>6.2642</td>\n",
       "      <td>Aridolf Resort Wellness and Spa</td>\n",
       "    </tr>\n",
       "    <tr>\n",
       "      <th>28</th>\n",
       "      <td>Atuona</td>\n",
       "      <td>PF</td>\n",
       "      <td>78.87</td>\n",
       "      <td>-9.8000</td>\n",
       "      <td>-139.0333</td>\n",
       "      <td>Villa Enata</td>\n",
       "    </tr>\n",
       "  </tbody>\n",
       "</table>\n",
       "</div>"
      ],
      "text/plain": [
       "             City Country  Max Temp      Lat       Lng  \\\n",
       "0         Rikitea      PF     77.63 -23.1203 -134.9692   \n",
       "2            Bedi      IN     78.31  22.5000   70.0500   \n",
       "3        Lorengau      PG     83.10  -2.0226  147.2712   \n",
       "5   San Cristobal      VE     77.18   7.7669  -72.2250   \n",
       "8        Umm Lajj      SA     75.65  25.0213   37.2685   \n",
       "10       Buchanan      LR     80.24   5.8808  -10.0467   \n",
       "11       Kalmunai      LK     79.14   7.4167   81.8167   \n",
       "23        Tautira      PF     81.03 -17.7333 -149.1500   \n",
       "27        Yenagoa      NG     79.21   4.9247    6.2642   \n",
       "28         Atuona      PF     78.87  -9.8000 -139.0333   \n",
       "\n",
       "                         Hotel Name  \n",
       "0                   People ThankYou  \n",
       "2                        Hotel Aram  \n",
       "3        Lorengau Harbourside Hotel  \n",
       "5                          Pirineos  \n",
       "8        Moon light Furnished Units  \n",
       "10              Kamaneahn Hotel Inc  \n",
       "11                         VS Villa  \n",
       "23                     Pension Oaoa  \n",
       "27  Aridolf Resort Wellness and Spa  \n",
       "28                      Villa Enata  "
      ]
     },
     "execution_count": 32,
     "metadata": {},
     "output_type": "execute_result"
    }
   ],
   "source": [
    "hotel_df.head(10)"
   ]
  },
  {
   "cell_type": "code",
   "execution_count": 33,
   "metadata": {},
   "outputs": [
    {
     "data": {
      "application/vnd.jupyter.widget-view+json": {
       "model_id": "d2d43890592740e1a3cd1131e5b123c7",
       "version_major": 2,
       "version_minor": 0
      },
      "text/plain": [
       "Figure(layout=FigureLayout(height='420px'))"
      ]
     },
     "metadata": {},
     "output_type": "display_data"
    }
   ],
   "source": [
    "# Add a heatmap of temperature for the vacation spots.\n",
    "locations = hotel_df[[\"Lat\", \"Lng\"]]\n",
    "max_temp = hotel_df[\"Max Temp\"]\n",
    "fig = gmaps.figure(center=(30.0, 31.0), zoom_level=1.5)\n",
    "heat_layer = gmaps.heatmap_layer(locations, weights=max_temp, dissipating=False,\n",
    "             max_intensity=300, point_radius=4)\n",
    "\n",
    "fig.add_layer(heat_layer)\n",
    "# Call the figure to plot the data.\n",
    "fig"
   ]
  },
  {
   "cell_type": "code",
   "execution_count": 34,
   "metadata": {},
   "outputs": [
    {
     "data": {
      "application/vnd.jupyter.widget-view+json": {
       "model_id": "2fb0e3fac8df47a18828d9ef8a84a92c",
       "version_major": 2,
       "version_minor": 0
      },
      "text/plain": [
       "Figure(layout=FigureLayout(height='420px'))"
      ]
     },
     "metadata": {},
     "output_type": "display_data"
    }
   ],
   "source": [
    "# Add a heatmap of temperature for the vacation spots and marker for each city.\n",
    "locations = hotel_df[[\"Lat\", \"Lng\"]]\n",
    "max_temp = hotel_df[\"Max Temp\"]\n",
    "fig = gmaps.figure(center=(30.0, 31.0), zoom_level=1.5)\n",
    "heat_layer = gmaps.heatmap_layer(locations, weights=max_temp,\n",
    "             dissipating=False, max_intensity=300, point_radius=4)\n",
    "marker_layer = gmaps.marker_layer(locations)\n",
    "fig.add_layer(heat_layer)\n",
    "fig.add_layer(marker_layer)\n",
    "# Call the figure to plot the data.\n",
    "fig"
   ]
  },
  {
   "cell_type": "code",
   "execution_count": 35,
   "metadata": {},
   "outputs": [],
   "source": [
    "info_box_template = \"\"\"\n",
    "<dl>\n",
    "<dt>Hotel Name</dt><dd>{Hotel Name}</dd>\n",
    "<dt>City</dt><dd>{City}</dd>\n",
    "<dt>Country</dt><dd>{Country}</dd>\n",
    "<dt>Max Temp</dt><dd>{Max Temp} °F</dd>\n",
    "</dl>\n",
    "\"\"\""
   ]
  },
  {
   "cell_type": "code",
   "execution_count": 36,
   "metadata": {},
   "outputs": [],
   "source": [
    "# Store the DataFrame Row.\n",
    "hotel_info = [info_box_template.format(**row) for index, row in hotel_df.iterrows()]"
   ]
  },
  {
   "cell_type": "code",
   "execution_count": 37,
   "metadata": {},
   "outputs": [
    {
     "data": {
      "application/vnd.jupyter.widget-view+json": {
       "model_id": "ee55ae6f39d94d8fa906f8d0778fdacb",
       "version_major": 2,
       "version_minor": 0
      },
      "text/plain": [
       "Figure(layout=FigureLayout(height='420px'))"
      ]
     },
     "metadata": {},
     "output_type": "display_data"
    }
   ],
   "source": [
    "# Add a heatmap of temperature for the vacation spots and a pop-up marker for each city.\n",
    "locations = hotel_df[[\"Lat\", \"Lng\"]]\n",
    "max_temp = hotel_df[\"Max Temp\"]\n",
    "fig = gmaps.figure(center=(30.0, 31.0), zoom_level=1.5)\n",
    "heat_layer = gmaps.heatmap_layer(locations, weights=max_temp,dissipating=False,\n",
    "             max_intensity=300, point_radius=4)\n",
    "marker_layer = gmaps.marker_layer(locations, info_box_content=hotel_info)\n",
    "fig.add_layer(heat_layer)\n",
    "fig.add_layer(marker_layer)\n",
    "\n",
    "# Call the figure to plot the data.\n",
    "fig"
   ]
  }
 ],
 "metadata": {
  "interpreter": {
   "hash": "3b679089918ac670aabcee0ba5e807e510d2487481882ce0b09ee5542fa786ea"
  },
  "kernelspec": {
   "display_name": "Python 3.7.6 64-bit",
   "language": "python",
   "name": "python3"
  },
  "language_info": {
   "codemirror_mode": {
    "name": "ipython",
    "version": 3
   },
   "file_extension": ".py",
   "mimetype": "text/x-python",
   "name": "python",
   "nbconvert_exporter": "python",
   "pygments_lexer": "ipython3",
   "version": "3.7.6"
  },
  "orig_nbformat": 4
 },
 "nbformat": 4,
 "nbformat_minor": 2
}
